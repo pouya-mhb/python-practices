{
  "nbformat": 4,
  "nbformat_minor": 0,
  "metadata": {
    "colab": {
      "provenance": [],
      "authorship_tag": "ABX9TyNVdB3WIfgQqHeWfRtFR8Ng",
      "include_colab_link": true
    },
    "kernelspec": {
      "name": "python3",
      "display_name": "Python 3"
    },
    "language_info": {
      "name": "python"
    }
  },
  "cells": [
    {
      "cell_type": "markdown",
      "metadata": {
        "id": "view-in-github",
        "colab_type": "text"
      },
      "source": [
        "<a href=\"https://colab.research.google.com/github/pouya-mhb/python-practices/blob/main/OOP.ipynb\" target=\"_parent\"><img src=\"https://colab.research.google.com/assets/colab-badge.svg\" alt=\"Open In Colab\"/></a>"
      ]
    },
    {
      "cell_type": "markdown",
      "source": [
        "# Object Oriented Programming"
      ],
      "metadata": {
        "id": "m2iDAGLzUsuA"
      }
    },
    {
      "cell_type": "code",
      "source": [
        "class Person:\n",
        "  def __init__(self, name, age):\n",
        "    self.name = name\n",
        "    self.age = age\n",
        "\n",
        "p1 = Person(\"John\", 36)\n",
        "\n",
        "print(p1.name)\n",
        "print(p1.age)"
      ],
      "metadata": {
        "colab": {
          "base_uri": "https://localhost:8080/"
        },
        "id": "wOAJdFFAUwg0",
        "outputId": "18fc5202-9c26-49d1-f1c8-172f5ce67ce4"
      },
      "execution_count": 13,
      "outputs": [
        {
          "output_type": "stream",
          "name": "stdout",
          "text": [
            "John\n",
            "36\n"
          ]
        }
      ]
    },
    {
      "cell_type": "code",
      "source": [
        "person1 = Person('John', 23)\n",
        "print(person1)"
      ],
      "metadata": {
        "colab": {
          "base_uri": "https://localhost:8080/"
        },
        "id": "hrcQwtTLWIS7",
        "outputId": "936560a2-b53b-490c-9c4e-056cac5be671"
      },
      "execution_count": 14,
      "outputs": [
        {
          "output_type": "stream",
          "name": "stdout",
          "text": [
            "<__main__.Person object at 0x7aac5a568550>\n"
          ]
        }
      ]
    },
    {
      "cell_type": "code",
      "source": [
        "class Person:\n",
        "  def __init__(self, name, age, is_walking):\n",
        "    self.name = name\n",
        "    self.age = age\n",
        "    self.is_walking = is_walking\n",
        "\n",
        "  def __str__(self) -> str:\n",
        "    return f\"{self.name} - {self.age}\"\n",
        "\n",
        "  def isWalking (self):\n",
        "    if self.is_walking == True:\n",
        "      print(f\"{self.name} is walking\")\n",
        "    else :\n",
        "      print(f\"{self.name} is sitting\")"
      ],
      "metadata": {
        "id": "Z5XHoVRfWXhK"
      },
      "execution_count": 58,
      "outputs": []
    },
    {
      "cell_type": "code",
      "source": [
        "person1 = Person('John', 23, True)\n",
        "print(person1)"
      ],
      "metadata": {
        "colab": {
          "base_uri": "https://localhost:8080/"
        },
        "id": "fboahYMBWUck",
        "outputId": "5a82d594-b155-4fdf-a103-6155f1a8e0dd"
      },
      "execution_count": 54,
      "outputs": [
        {
          "output_type": "stream",
          "name": "stdout",
          "text": [
            "John - 23\n"
          ]
        }
      ]
    },
    {
      "cell_type": "code",
      "source": [
        "person1.name"
      ],
      "metadata": {
        "colab": {
          "base_uri": "https://localhost:8080/",
          "height": 35
        },
        "id": "sn6X2LhiH5Tr",
        "outputId": "c68540e7-7678-4adb-9b85-90c963766b65"
      },
      "execution_count": 55,
      "outputs": [
        {
          "output_type": "execute_result",
          "data": {
            "text/plain": [
              "'John'"
            ],
            "application/vnd.google.colaboratory.intrinsic+json": {
              "type": "string"
            }
          },
          "metadata": {},
          "execution_count": 55
        }
      ]
    },
    {
      "cell_type": "code",
      "source": [
        "print(person1.isWalking())"
      ],
      "metadata": {
        "colab": {
          "base_uri": "https://localhost:8080/"
        },
        "id": "i-T5n7ecVqVK",
        "outputId": "3ea28c41-a19e-4021-e398-dae54fe87409"
      },
      "execution_count": 59,
      "outputs": [
        {
          "output_type": "stream",
          "name": "stdout",
          "text": [
            "John is walking\n",
            "None\n"
          ]
        }
      ]
    },
    {
      "cell_type": "code",
      "source": [
        "class Dog ():\n",
        "\n",
        "  species = 'mamal'\n",
        "\n",
        "  def __init__(self,name,barking) -> None:\n",
        "    self.name = name\n",
        "    self.color = 'brown'\n",
        "    self.barking = barking\n",
        "\n",
        "  def bark(self):\n",
        "    if self.barking == True:\n",
        "      print (\"Woof! my name is : {} and I am a {}\".format(self.name,Dog.species))\n",
        ""
      ],
      "metadata": {
        "id": "urUfLZfg9q2z"
      },
      "execution_count": 78,
      "outputs": []
    },
    {
      "cell_type": "code",
      "source": [
        "jessi = Dog('Jessi',True)"
      ],
      "metadata": {
        "id": "y_jz3Usk9jUC"
      },
      "execution_count": 79,
      "outputs": []
    },
    {
      "cell_type": "code",
      "source": [
        "jessi.bark()"
      ],
      "metadata": {
        "colab": {
          "base_uri": "https://localhost:8080/"
        },
        "id": "BflL4Ar2J9_e",
        "outputId": "fccd4932-426c-4a58-a3df-6f4b99e494a4"
      },
      "execution_count": 80,
      "outputs": [
        {
          "output_type": "stream",
          "name": "stdout",
          "text": [
            "Woof! my name is : Jessi and I am a mamal\n"
          ]
        }
      ]
    },
    {
      "cell_type": "code",
      "source": [
        "class Circle ():\n",
        "  pi = 3.14\n",
        "  def __init__(self, radius = 1) -> None:\n",
        "    self.radius = radius\n",
        "    self.area = self.pi *radius**2\n",
        "\n",
        "  def get_circumferenc(self):\n",
        "    return self.radius * Circle.pi"
      ],
      "metadata": {
        "id": "5auwKsejKKaP"
      },
      "execution_count": 81,
      "outputs": []
    },
    {
      "cell_type": "code",
      "source": [
        "circle = Circle(30)"
      ],
      "metadata": {
        "id": "WdTIOWabLaMD"
      },
      "execution_count": 89,
      "outputs": []
    },
    {
      "cell_type": "code",
      "source": [
        "circle"
      ],
      "metadata": {
        "colab": {
          "base_uri": "https://localhost:8080/"
        },
        "id": "6dtughftLd71",
        "outputId": "023352df-dd57-42cf-e5ae-9af5c5c26fa2"
      },
      "execution_count": 83,
      "outputs": [
        {
          "output_type": "execute_result",
          "data": {
            "text/plain": [
              "<__main__.Circle at 0x7f30e54aa790>"
            ]
          },
          "metadata": {},
          "execution_count": 83
        }
      ]
    },
    {
      "cell_type": "code",
      "execution_count": 90,
      "metadata": {
        "colab": {
          "base_uri": "https://localhost:8080/"
        },
        "id": "-mh2DQDLSh0y",
        "outputId": "135ac138-2136-4579-e6e0-d4095ae0cc1a"
      },
      "outputs": [
        {
          "output_type": "execute_result",
          "data": {
            "text/plain": [
              "94.2"
            ]
          },
          "metadata": {},
          "execution_count": 90
        }
      ],
      "source": [
        "circle.get_circumferenc()"
      ]
    },
    {
      "cell_type": "code",
      "source": [
        "circle.area"
      ],
      "metadata": {
        "colab": {
          "base_uri": "https://localhost:8080/"
        },
        "id": "I0hsEyjCLg2r",
        "outputId": "7a6deeb7-2184-4b13-a381-582bbcb08c6c"
      },
      "execution_count": 91,
      "outputs": [
        {
          "output_type": "execute_result",
          "data": {
            "text/plain": [
              "2826.0"
            ]
          },
          "metadata": {},
          "execution_count": 91
        }
      ]
    },
    {
      "cell_type": "markdown",
      "source": [
        "# Inheritence and Polymorphism"
      ],
      "metadata": {
        "id": "SLatPKGFMBlc"
      }
    },
    {
      "cell_type": "markdown",
      "source": [
        "## Inheritence"
      ],
      "metadata": {
        "id": "X5flu_9yMIpi"
      }
    },
    {
      "cell_type": "code",
      "source": [
        "class Animal ():\n",
        "  def __init__(self):\n",
        "    print (\"Animal Created\")\n",
        "\n",
        "  def who_am_i(self):\n",
        "    print(\"I am an animal\")\n",
        "\n",
        "  def eat(self):\n",
        "    print (\"I am eating\")"
      ],
      "metadata": {
        "id": "4IwMIWJ0MKZV"
      },
      "execution_count": 93,
      "outputs": []
    },
    {
      "cell_type": "code",
      "source": [
        "animal = Animal()"
      ],
      "metadata": {
        "colab": {
          "base_uri": "https://localhost:8080/"
        },
        "id": "Cz5iGSnbPtoF",
        "outputId": "28468ae4-cb74-47fd-a990-ad6bc56f6295"
      },
      "execution_count": 98,
      "outputs": [
        {
          "output_type": "stream",
          "name": "stdout",
          "text": [
            "Animal Created\n"
          ]
        }
      ]
    },
    {
      "cell_type": "code",
      "source": [
        "print(animal)"
      ],
      "metadata": {
        "colab": {
          "base_uri": "https://localhost:8080/"
        },
        "id": "WCi0T65-PyCK",
        "outputId": "cf0412e9-0fa6-4dfa-947b-640d7eee0c5c"
      },
      "execution_count": 99,
      "outputs": [
        {
          "output_type": "stream",
          "name": "stdout",
          "text": [
            "<__main__.Animal object at 0x7f30f0e17c50>\n"
          ]
        }
      ]
    },
    {
      "cell_type": "code",
      "source": [
        "animal.eat()"
      ],
      "metadata": {
        "colab": {
          "base_uri": "https://localhost:8080/"
        },
        "id": "GI78cNqRPzGz",
        "outputId": "0e529156-e1ed-44b6-85d6-8c95efa5bdc0"
      },
      "execution_count": 100,
      "outputs": [
        {
          "output_type": "stream",
          "name": "stdout",
          "text": [
            "I am eating\n"
          ]
        }
      ]
    },
    {
      "cell_type": "code",
      "source": [
        "animal.eat"
      ],
      "metadata": {
        "colab": {
          "base_uri": "https://localhost:8080/",
          "height": 105
        },
        "id": "328ZzHu8PvgW",
        "outputId": "bf6a344d-7ac6-457a-81fb-5207612d1c60"
      },
      "execution_count": 101,
      "outputs": [
        {
          "output_type": "execute_result",
          "data": {
            "text/plain": [
              "<bound method Animal.eat of <__main__.Animal object at 0x7f30f0e17c50>>"
            ],
            "text/html": [
              "<div style=\"max-width:800px; border: 1px solid var(--colab-border-color);\"><style>\n",
              "      pre.function-repr-contents {\n",
              "        overflow-x: auto;\n",
              "        padding: 8px 12px;\n",
              "        max-height: 500px;\n",
              "      }\n",
              "\n",
              "      pre.function-repr-contents.function-repr-contents-collapsed {\n",
              "        cursor: pointer;\n",
              "        max-height: 100px;\n",
              "      }\n",
              "    </style>\n",
              "    <pre style=\"white-space: initial; background:\n",
              "         var(--colab-secondary-surface-color); padding: 8px 12px;\n",
              "         border-bottom: 1px solid var(--colab-border-color);\"><b>Animal.eat</b><br/>def eat()</pre><pre class=\"function-repr-contents function-repr-contents-collapsed\" style=\"\"><a class=\"filepath\" style=\"display:none\" href=\"#\">/content/&lt;ipython-input-93-f3c345f68c34&gt;</a>&lt;no docstring&gt;</pre></div>"
            ]
          },
          "metadata": {},
          "execution_count": 101
        }
      ]
    },
    {
      "cell_type": "code",
      "source": [
        "class Dog(Animal):\n",
        "  def __init__(self):\n",
        "    Animal.__init__(self)\n",
        "    print(\"Dog Created\")\n",
        ""
      ],
      "metadata": {
        "id": "2-nqWiVUPmDW"
      },
      "execution_count": 111,
      "outputs": []
    },
    {
      "cell_type": "code",
      "source": [
        "dog = Dog()"
      ],
      "metadata": {
        "colab": {
          "base_uri": "https://localhost:8080/"
        },
        "id": "IaSOMXa1QNcU",
        "outputId": "e070e617-b345-41f8-ddb9-7f1d3643fb25"
      },
      "execution_count": 112,
      "outputs": [
        {
          "output_type": "stream",
          "name": "stdout",
          "text": [
            "Animal Created\n",
            "Dog Created\n"
          ]
        }
      ]
    },
    {
      "cell_type": "code",
      "source": [
        "dog.who_am_i()"
      ],
      "metadata": {
        "colab": {
          "base_uri": "https://localhost:8080/"
        },
        "id": "ImWsSVypQPLK",
        "outputId": "375a9789-755a-4d70-ff18-467e34f2d1af"
      },
      "execution_count": 113,
      "outputs": [
        {
          "output_type": "stream",
          "name": "stdout",
          "text": [
            "I am an animal\n"
          ]
        }
      ]
    },
    {
      "cell_type": "code",
      "source": [
        "dog.eat()"
      ],
      "metadata": {
        "colab": {
          "base_uri": "https://localhost:8080/"
        },
        "id": "bR0ZaNLlQm58",
        "outputId": "9c046e7b-17e1-44c4-b3e3-4c60925b4ce5"
      },
      "execution_count": 114,
      "outputs": [
        {
          "output_type": "stream",
          "name": "stdout",
          "text": [
            "I am eating\n"
          ]
        }
      ]
    },
    {
      "cell_type": "code",
      "source": [
        "class Dog(Animal):\n",
        "  def __init__(self):\n",
        "    Animal.__init__(self)\n",
        "    print(\"Dog Created\")\n",
        "\n",
        "  def bark(self):\n",
        "    print(\"Woof\")\n",
        "\n",
        "  def eat(self):\n",
        "    print(\"I am a dog and I am eating\")"
      ],
      "metadata": {
        "id": "gA5N40TJMFaS"
      },
      "execution_count": 115,
      "outputs": []
    },
    {
      "cell_type": "code",
      "source": [
        "dog=Dog()"
      ],
      "metadata": {
        "colab": {
          "base_uri": "https://localhost:8080/"
        },
        "id": "rNWlvu0MQjPp",
        "outputId": "febe4061-978c-4dc8-e483-e77997469fd6"
      },
      "execution_count": 116,
      "outputs": [
        {
          "output_type": "stream",
          "name": "stdout",
          "text": [
            "Animal Created\n",
            "Dog Created\n"
          ]
        }
      ]
    },
    {
      "cell_type": "code",
      "source": [
        "dog.eat()"
      ],
      "metadata": {
        "colab": {
          "base_uri": "https://localhost:8080/"
        },
        "id": "1JqhOQlHQkYW",
        "outputId": "f0efc00f-8ef5-42f6-abf8-d349dc659133"
      },
      "execution_count": 117,
      "outputs": [
        {
          "output_type": "stream",
          "name": "stdout",
          "text": [
            "I am a dog and I am eating\n"
          ]
        }
      ]
    },
    {
      "cell_type": "markdown",
      "source": [
        "## Polymorphism\n",
        "two different classes share same method name"
      ],
      "metadata": {
        "id": "_Z8uexQMQ80b"
      }
    },
    {
      "cell_type": "code",
      "source": [
        "class Dog():\n",
        "  def __init__(self,name):\n",
        "    self.name = name\n",
        "\n",
        "  def speak(self):\n",
        "    return f\"{self.name} says woof !\"\n",
        "\n",
        "  def run(self):\n",
        "    return f\"{self.name} is running !\"\n",
        "\n",
        "class Cat ():\n",
        "  def __init__(self,name):\n",
        "    self.name = name\n",
        "\n",
        "  def speak(self):\n",
        "    return f\"{self.name} says meow !\"\n"
      ],
      "metadata": {
        "id": "xKsuJ3JoRR8H"
      },
      "execution_count": 147,
      "outputs": []
    },
    {
      "cell_type": "code",
      "source": [
        "niko = Dog(\"niko\")\n",
        "filix = Cat(\"filix\")"
      ],
      "metadata": {
        "id": "T13pQNObQ-a8"
      },
      "execution_count": 150,
      "outputs": []
    },
    {
      "cell_type": "code",
      "source": [
        "pet_list = [niko,filix]\n",
        "for pet in pet_list:\n",
        "  print(pet)\n",
        "  print(type(pet))"
      ],
      "metadata": {
        "colab": {
          "base_uri": "https://localhost:8080/"
        },
        "id": "gv3CIqIMWY1T",
        "outputId": "e40bcb1f-e3e6-42e7-a916-d74c49b33bf7"
      },
      "execution_count": 151,
      "outputs": [
        {
          "output_type": "stream",
          "name": "stdout",
          "text": [
            "<__main__.Dog object at 0x7f30e5503910>\n",
            "<class '__main__.Dog'>\n",
            "<__main__.Cat object at 0x7f30e547fb10>\n",
            "<class '__main__.Cat'>\n"
          ]
        }
      ]
    },
    {
      "cell_type": "code",
      "source": [
        "niko.speak()"
      ],
      "metadata": {
        "colab": {
          "base_uri": "https://localhost:8080/",
          "height": 35
        },
        "id": "Y9VdEFcNWhpE",
        "outputId": "da9edfc4-e531-4099-c579-3269e1742a4b"
      },
      "execution_count": 136,
      "outputs": [
        {
          "output_type": "execute_result",
          "data": {
            "text/plain": [
              "'niko says woof !'"
            ],
            "application/vnd.google.colaboratory.intrinsic+json": {
              "type": "string"
            }
          },
          "metadata": {},
          "execution_count": 136
        }
      ]
    },
    {
      "cell_type": "code",
      "source": [
        "filix.speak()"
      ],
      "metadata": {
        "colab": {
          "base_uri": "https://localhost:8080/",
          "height": 35
        },
        "id": "Sh-ji6tHXepB",
        "outputId": "3c9de15a-ab63-4f72-a7dd-62644ce8f53d"
      },
      "execution_count": 137,
      "outputs": [
        {
          "output_type": "execute_result",
          "data": {
            "text/plain": [
              "'filix says meow !'"
            ],
            "application/vnd.google.colaboratory.intrinsic+json": {
              "type": "string"
            }
          },
          "metadata": {},
          "execution_count": 137
        }
      ]
    },
    {
      "cell_type": "code",
      "source": [
        "filix.name"
      ],
      "metadata": {
        "colab": {
          "base_uri": "https://localhost:8080/",
          "height": 35
        },
        "id": "STd77ydYXgaq",
        "outputId": "e6755608-48a1-4d83-9063-296c400a8c9b"
      },
      "execution_count": 138,
      "outputs": [
        {
          "output_type": "execute_result",
          "data": {
            "text/plain": [
              "'filix'"
            ],
            "application/vnd.google.colaboratory.intrinsic+json": {
              "type": "string"
            }
          },
          "metadata": {},
          "execution_count": 138
        }
      ]
    },
    {
      "cell_type": "code",
      "source": [
        "def pet_speak(anghezi):\n",
        "  print(anghezi.speak())"
      ],
      "metadata": {
        "id": "ljwie8-qQti8"
      },
      "execution_count": 144,
      "outputs": []
    },
    {
      "cell_type": "code",
      "source": [
        "pet_speak(niko)"
      ],
      "metadata": {
        "colab": {
          "base_uri": "https://localhost:8080/"
        },
        "id": "CeYQbKJyXu51",
        "outputId": "cdd872d1-5911-4885-bcf9-5043caccd111"
      },
      "execution_count": 145,
      "outputs": [
        {
          "output_type": "stream",
          "name": "stdout",
          "text": [
            "niko says woof !\n"
          ]
        }
      ]
    },
    {
      "cell_type": "code",
      "source": [
        "pet_speak(filix)"
      ],
      "metadata": {
        "colab": {
          "base_uri": "https://localhost:8080/"
        },
        "id": "qjQU9mwzX1-y",
        "outputId": "e1157ef6-188c-4789-a780-ae2648035aa6"
      },
      "execution_count": 146,
      "outputs": [
        {
          "output_type": "stream",
          "name": "stdout",
          "text": [
            "filix says meow !\n"
          ]
        }
      ]
    },
    {
      "cell_type": "code",
      "source": [
        "def pet_run(jigar):\n",
        "  print(jigar.run())"
      ],
      "metadata": {
        "id": "hchconnrX4sl"
      },
      "execution_count": 148,
      "outputs": []
    },
    {
      "cell_type": "code",
      "source": [
        "pet_run(niko)"
      ],
      "metadata": {
        "colab": {
          "base_uri": "https://localhost:8080/"
        },
        "id": "4IdvccuhYWah",
        "outputId": "dcd739e5-d876-4a7f-c5ee-fef85d574386"
      },
      "execution_count": 152,
      "outputs": [
        {
          "output_type": "stream",
          "name": "stdout",
          "text": [
            "niko is running !\n"
          ]
        }
      ]
    },
    {
      "cell_type": "code",
      "source": [
        "# pet_run(filix) # AttributeError: 'Cat' object has no attribute 'run'"
      ],
      "metadata": {
        "id": "r1nSodaGUo3F"
      },
      "execution_count": 154,
      "outputs": []
    },
    {
      "cell_type": "markdown",
      "source": [
        "# Abstract class and Inheritance"
      ],
      "metadata": {
        "id": "J8haNM2JZyy_"
      }
    },
    {
      "cell_type": "code",
      "source": [
        "class Animal ():\n",
        "  def __init__(self,name) -> None:\n",
        "    self.name = name\n",
        "\n",
        "  def speak(self):\n",
        "    raise NotImplementedError (\"Subclass mus implement this abstract method\")"
      ],
      "metadata": {
        "id": "_r8ZvPYBZ1X9"
      },
      "execution_count": 155,
      "outputs": []
    },
    {
      "cell_type": "code",
      "source": [
        "my_animal = Animal('fred')"
      ],
      "metadata": {
        "id": "BS_6LKlka3Yz"
      },
      "execution_count": 156,
      "outputs": []
    },
    {
      "cell_type": "code",
      "source": [
        "#my_animal.speak() # -> NotImplementedError: Subclass mus implement this abstract method"
      ],
      "metadata": {
        "id": "NLuGIL6Va686"
      },
      "execution_count": 158,
      "outputs": []
    },
    {
      "cell_type": "code",
      "source": [
        "class Cat (Animal):\n",
        "  def __init__(self,name) -> None:\n",
        "    self.name = name\n",
        "\n",
        "  def speak(self):\n",
        "    return f\"{self.name} says Meow\"\n",
        "\n",
        "class Dog (Animal):\n",
        "  def __init__(self,name) -> None:\n",
        "    self.name = name\n",
        "\n",
        "  def speak(self):\n",
        "    return f\"{self.name} says woof\""
      ],
      "metadata": {
        "id": "xZw-JlP6Uo9o"
      },
      "execution_count": 164,
      "outputs": []
    },
    {
      "cell_type": "code",
      "source": [
        "fido = Dog('fido')\n",
        "isis = Cat('isis')"
      ],
      "metadata": {
        "id": "w99Fq0VVbTbn"
      },
      "execution_count": 165,
      "outputs": []
    },
    {
      "cell_type": "code",
      "source": [
        "print (fido.speak())"
      ],
      "metadata": {
        "colab": {
          "base_uri": "https://localhost:8080/"
        },
        "id": "0UDWhIQhbe3r",
        "outputId": "f4456894-c3c3-4c93-8ab2-0c342ff22ea0"
      },
      "execution_count": 166,
      "outputs": [
        {
          "output_type": "stream",
          "name": "stdout",
          "text": [
            "fido says woof\n"
          ]
        }
      ]
    },
    {
      "cell_type": "code",
      "source": [
        "print(isis.speak())"
      ],
      "metadata": {
        "colab": {
          "base_uri": "https://localhost:8080/"
        },
        "id": "gMkP3SznUpAU",
        "outputId": "35fb0524-a436-48c5-9435-df29ff654994"
      },
      "execution_count": 167,
      "outputs": [
        {
          "output_type": "stream",
          "name": "stdout",
          "text": [
            "isis says Meow\n"
          ]
        }
      ]
    },
    {
      "cell_type": "markdown",
      "source": [
        "# Special Methods\n",
        "use built-in methods in your class"
      ],
      "metadata": {
        "id": "HUf3Rud-cSrh"
      }
    },
    {
      "cell_type": "code",
      "source": [
        "class Book ():\n",
        "  def __init__(self, title, author, pages) -> None:\n",
        "    self.title = title\n",
        "    self.author = author\n",
        "    self.pages = pages\n",
        "\n",
        "  def __str__(self) -> str:\n",
        "    return f\"{self.title} by {self.author}\"\n",
        "\n",
        "  def __len__(self):\n",
        "    return self.pages\n",
        "\n",
        "  def __del__(self):\n",
        "    print(\" a book has been deleted\")"
      ],
      "metadata": {
        "id": "BKYUErs3cUjg"
      },
      "execution_count": 210,
      "outputs": []
    },
    {
      "cell_type": "code",
      "source": [
        "b = Book('python','pouya',100)"
      ],
      "metadata": {
        "id": "XqOF1TIKdsDF"
      },
      "execution_count": 212,
      "outputs": []
    },
    {
      "cell_type": "code",
      "source": [
        "b"
      ],
      "metadata": {
        "colab": {
          "base_uri": "https://localhost:8080/"
        },
        "id": "1XUJ9-2odxGP",
        "outputId": "3043b58a-7843-4ec2-d048-c3bd61e55667"
      },
      "execution_count": 188,
      "outputs": [
        {
          "output_type": "execute_result",
          "data": {
            "text/plain": [
              "<__main__.Book at 0x7f30e53d2c50>"
            ]
          },
          "metadata": {},
          "execution_count": 188
        }
      ]
    },
    {
      "cell_type": "code",
      "source": [
        "len(b)"
      ],
      "metadata": {
        "colab": {
          "base_uri": "https://localhost:8080/"
        },
        "id": "vVjm1BGcdxpc",
        "outputId": "19fdf45b-1956-4c9c-bd1e-f868bdef1b29"
      },
      "execution_count": 171,
      "outputs": [
        {
          "output_type": "execute_result",
          "data": {
            "text/plain": [
              "100"
            ]
          },
          "metadata": {},
          "execution_count": 171
        }
      ]
    },
    {
      "cell_type": "code",
      "source": [
        "print(b)"
      ],
      "metadata": {
        "colab": {
          "base_uri": "https://localhost:8080/"
        },
        "id": "P_vCTKnMdz8A",
        "outputId": "559e4951-2c0c-45b6-8be2-b4b45734cfbb"
      },
      "execution_count": 189,
      "outputs": [
        {
          "output_type": "stream",
          "name": "stdout",
          "text": [
            "python by pouya\n"
          ]
        }
      ]
    },
    {
      "cell_type": "code",
      "source": [
        "del b # -> delete from memory"
      ],
      "metadata": {
        "id": "Qq7iQfj8d1Zx"
      },
      "execution_count": 213,
      "outputs": []
    }
  ]
}