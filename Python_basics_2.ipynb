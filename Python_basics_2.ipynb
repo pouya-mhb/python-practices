{
  "nbformat": 4,
  "nbformat_minor": 0,
  "metadata": {
    "colab": {
      "provenance": [],
      "authorship_tag": "ABX9TyOwVvde0IsL5PNaGFjMwUXO",
      "include_colab_link": true
    },
    "kernelspec": {
      "name": "python3",
      "display_name": "Python 3"
    },
    "language_info": {
      "name": "python"
    }
  },
  "cells": [
    {
      "cell_type": "markdown",
      "metadata": {
        "id": "view-in-github",
        "colab_type": "text"
      },
      "source": [
        "<a href=\"https://colab.research.google.com/github/pouya-mhb/python-practices/blob/main/Python_basics_2.ipynb\" target=\"_parent\"><img src=\"https://colab.research.google.com/assets/colab-badge.svg\" alt=\"Open In Colab\"/></a>"
      ]
    },
    {
      "cell_type": "code",
      "execution_count": 2,
      "metadata": {
        "id": "jczkpBUEIsne"
      },
      "outputs": [],
      "source": [
        "a =2\n",
        "b =3"
      ]
    },
    {
      "cell_type": "code",
      "source": [
        "if a > b :\n",
        "  c = a+b\n",
        "  print(c)\n",
        "else :\n",
        "    c = a - b\n",
        "    print(c)"
      ],
      "metadata": {
        "colab": {
          "base_uri": "https://localhost:8080/"
        },
        "id": "SyBU42snIyJH",
        "outputId": "cefd7fc3-1595-40c6-a73b-0a74aea2a98f"
      },
      "execution_count": 3,
      "outputs": [
        {
          "output_type": "stream",
          "name": "stdout",
          "text": [
            "-1\n"
          ]
        }
      ]
    },
    {
      "cell_type": "code",
      "source": [
        "if a+b > 10:\n",
        "  d = a * 2\n",
        "elif a+b < 10 :\n",
        "  d = a/2\n",
        "  print (d)"
      ],
      "metadata": {
        "colab": {
          "base_uri": "https://localhost:8080/"
        },
        "id": "EvaC0fM6I6zn",
        "outputId": "2db9d0b8-b10f-4a18-889a-d3cd6e89668d"
      },
      "execution_count": 4,
      "outputs": [
        {
          "output_type": "stream",
          "name": "stdout",
          "text": [
            "1.0\n"
          ]
        }
      ]
    },
    {
      "cell_type": "code",
      "source": [
        "e = a * b\n",
        "while e < 20 :\n",
        "  e = e + 2\n",
        "  print (e)"
      ],
      "metadata": {
        "colab": {
          "base_uri": "https://localhost:8080/"
        },
        "id": "riR6mUItJSbh",
        "outputId": "71f66845-9ecf-41f0-92c0-7df8723b80fc"
      },
      "execution_count": 5,
      "outputs": [
        {
          "output_type": "stream",
          "name": "stdout",
          "text": [
            "8\n",
            "10\n",
            "12\n",
            "14\n",
            "16\n",
            "18\n",
            "20\n"
          ]
        }
      ]
    },
    {
      "cell_type": "code",
      "source": [
        "number = int(input(\"enter a number : \"))\n",
        "guess = 4\n",
        "\n",
        "match number == guess :\n",
        "  case True :\n",
        "    print (\"True Number\")\n",
        "  case False :\n",
        "    print (\"False Number\")"
      ],
      "metadata": {
        "colab": {
          "base_uri": "https://localhost:8080/"
        },
        "id": "n-R13fRXJwfU",
        "outputId": "3203b6a2-b764-4c5a-9b39-b591bc5f6dc4"
      },
      "execution_count": 6,
      "outputs": [
        {
          "output_type": "stream",
          "name": "stdout",
          "text": [
            "enter a number : 1\n",
            "False Number\n"
          ]
        }
      ]
    },
    {
      "cell_type": "code",
      "source": [
        "for i in range (4):\n",
        "  print (i)"
      ],
      "metadata": {
        "colab": {
          "base_uri": "https://localhost:8080/"
        },
        "id": "fvsnsvtqK_iD",
        "outputId": "fc0607d4-27db-4328-ba4d-975615639d2d"
      },
      "execution_count": 7,
      "outputs": [
        {
          "output_type": "stream",
          "name": "stdout",
          "text": [
            "0\n",
            "1\n",
            "2\n",
            "3\n"
          ]
        }
      ]
    },
    {
      "cell_type": "code",
      "source": [
        "for i in range (4):\n",
        "  print(i,end='-')"
      ],
      "metadata": {
        "colab": {
          "base_uri": "https://localhost:8080/"
        },
        "id": "cQRdYjotLV5x",
        "outputId": "b07bacc0-a45e-4882-bfeb-c948980b879c"
      },
      "execution_count": 8,
      "outputs": [
        {
          "output_type": "stream",
          "name": "stdout",
          "text": [
            "0-1-2-3-"
          ]
        }
      ]
    },
    {
      "cell_type": "code",
      "source": [
        "for i in range (1,10):\n",
        "  print (i)\n",
        "  if i == 5 :\n",
        "    break"
      ],
      "metadata": {
        "colab": {
          "base_uri": "https://localhost:8080/"
        },
        "id": "XJswMISdLaQA",
        "outputId": "1e88f5eb-197c-444e-d17b-3b6f69f6ebaf"
      },
      "execution_count": 9,
      "outputs": [
        {
          "output_type": "stream",
          "name": "stdout",
          "text": [
            "1\n",
            "2\n",
            "3\n",
            "4\n",
            "5\n"
          ]
        }
      ]
    },
    {
      "cell_type": "code",
      "source": [
        "for i in range (1,10):\n",
        "  if i == 7:\n",
        "    continue\n",
        "  print (i)"
      ],
      "metadata": {
        "colab": {
          "base_uri": "https://localhost:8080/"
        },
        "id": "_lOmAjeZL53u",
        "outputId": "86609dbe-84ae-436b-8ef7-f848ff0768f3"
      },
      "execution_count": 10,
      "outputs": [
        {
          "output_type": "stream",
          "name": "stdout",
          "text": [
            "1\n",
            "2\n",
            "3\n",
            "4\n",
            "5\n",
            "6\n",
            "8\n",
            "9\n"
          ]
        }
      ]
    },
    {
      "cell_type": "code",
      "source": [
        "print (\"*\".center(10))"
      ],
      "metadata": {
        "colab": {
          "base_uri": "https://localhost:8080/"
        },
        "id": "pTwc2RE7MRso",
        "outputId": "6c13bd33-2de8-4e09-dad9-765c7225f4f5"
      },
      "execution_count": 11,
      "outputs": [
        {
          "output_type": "stream",
          "name": "stdout",
          "text": [
            "    *     \n"
          ]
        }
      ]
    },
    {
      "cell_type": "code",
      "source": [
        "string_name = 'john smith'\n",
        "print (string_name[2:5:2])"
      ],
      "metadata": {
        "colab": {
          "base_uri": "https://localhost:8080/"
        },
        "id": "mSwuq0fsNHDC",
        "outputId": "cd755405-8908-462e-9c7e-a7033f798b6d"
      },
      "execution_count": 12,
      "outputs": [
        {
          "output_type": "stream",
          "name": "stdout",
          "text": [
            "h \n"
          ]
        }
      ]
    },
    {
      "cell_type": "code",
      "source": [
        "for n in string_name :\n",
        "  print (n)"
      ],
      "metadata": {
        "colab": {
          "base_uri": "https://localhost:8080/"
        },
        "id": "ZTFOSnbxnGyC",
        "outputId": "48588a1a-8eed-4dbe-c6fc-07ae5d3f50fe"
      },
      "execution_count": 13,
      "outputs": [
        {
          "output_type": "stream",
          "name": "stdout",
          "text": [
            "j\n",
            "o\n",
            "h\n",
            "n\n",
            " \n",
            "s\n",
            "m\n",
            "i\n",
            "t\n",
            "h\n"
          ]
        }
      ]
    },
    {
      "cell_type": "code",
      "source": [
        "for i in range(len(string_name)):\n",
        "  print (string_name[i], end=' ')"
      ],
      "metadata": {
        "colab": {
          "base_uri": "https://localhost:8080/"
        },
        "id": "yC0kwYPBnKaP",
        "outputId": "aefe1086-fbe4-4b9c-d344-52be5056978c"
      },
      "execution_count": 14,
      "outputs": [
        {
          "output_type": "stream",
          "name": "stdout",
          "text": [
            "j o h n   s m i t h "
          ]
        }
      ]
    },
    {
      "cell_type": "code",
      "source": [
        "import time\n",
        "for n in string_name :\n",
        "  time.sleep(1)\n",
        "  print (n)"
      ],
      "metadata": {
        "colab": {
          "base_uri": "https://localhost:8080/"
        },
        "id": "8icuft8RnTrL",
        "outputId": "fe1fa72e-acce-4370-9485-86e5f4833dbb"
      },
      "execution_count": 15,
      "outputs": [
        {
          "output_type": "stream",
          "name": "stdout",
          "text": [
            "j\n",
            "o\n",
            "h\n",
            "n\n",
            " \n",
            "s\n",
            "m\n",
            "i\n",
            "t\n",
            "h\n"
          ]
        }
      ]
    },
    {
      "cell_type": "markdown",
      "source": [
        "# Lists"
      ],
      "metadata": {
        "id": "F-01lpInn782"
      }
    },
    {
      "cell_type": "code",
      "source": [
        "a = 9\n",
        "my_list = [a,2,12.5,[1,2,3]]"
      ],
      "metadata": {
        "id": "dSliuwVMMOB4"
      },
      "execution_count": 16,
      "outputs": []
    },
    {
      "cell_type": "code",
      "source": [
        "x =100\n",
        "my_list.append(x)"
      ],
      "metadata": {
        "id": "M_hA6SFZoGQq"
      },
      "execution_count": 17,
      "outputs": []
    },
    {
      "cell_type": "code",
      "source": [
        "my_list.remove(a)"
      ],
      "metadata": {
        "id": "w_BpZcZAoOPc"
      },
      "execution_count": 18,
      "outputs": []
    },
    {
      "cell_type": "code",
      "source": [
        "my_list"
      ],
      "metadata": {
        "colab": {
          "base_uri": "https://localhost:8080/"
        },
        "id": "KOo6Z0Q7oRMR",
        "outputId": "2ae6bdd0-9768-4cde-d3f9-c7184daa4e2e"
      },
      "execution_count": 19,
      "outputs": [
        {
          "output_type": "execute_result",
          "data": {
            "text/plain": [
              "[2, 12.5, [1, 2, 3], 100]"
            ]
          },
          "metadata": {},
          "execution_count": 19
        }
      ]
    },
    {
      "cell_type": "code",
      "source": [
        "print(my_list[3])"
      ],
      "metadata": {
        "colab": {
          "base_uri": "https://localhost:8080/"
        },
        "id": "QmDRAy1voTEH",
        "outputId": "65707d4f-5584-4090-c1e3-4033ffc03020"
      },
      "execution_count": 20,
      "outputs": [
        {
          "output_type": "stream",
          "name": "stdout",
          "text": [
            "100\n"
          ]
        }
      ]
    },
    {
      "cell_type": "code",
      "source": [
        "list_name = list(string_name)\n",
        "list_name"
      ],
      "metadata": {
        "colab": {
          "base_uri": "https://localhost:8080/"
        },
        "id": "xsaoHYF1obhc",
        "outputId": "0e4c7af4-2783-4d2c-bd74-54446b250acd"
      },
      "execution_count": 21,
      "outputs": [
        {
          "output_type": "execute_result",
          "data": {
            "text/plain": [
              "['j', 'o', 'h', 'n', ' ', 's', 'm', 'i', 't', 'h']"
            ]
          },
          "metadata": {},
          "execution_count": 21
        }
      ]
    },
    {
      "cell_type": "code",
      "source": [
        "fullname = ''\n",
        "for i in list_name:\n",
        "  y = str(i)\n",
        "  fullname = fullname + y"
      ],
      "metadata": {
        "id": "mOuv0M_yopRt"
      },
      "execution_count": 22,
      "outputs": []
    },
    {
      "cell_type": "code",
      "source": [
        "fullname"
      ],
      "metadata": {
        "colab": {
          "base_uri": "https://localhost:8080/",
          "height": 35
        },
        "id": "w6JMUV4Ao6AC",
        "outputId": "d76bf90e-93e8-44a1-9e9e-b324990042bc"
      },
      "execution_count": 23,
      "outputs": [
        {
          "output_type": "execute_result",
          "data": {
            "text/plain": [
              "'john smith'"
            ],
            "application/vnd.google.colaboratory.intrinsic+json": {
              "type": "string"
            }
          },
          "metadata": {},
          "execution_count": 23
        }
      ]
    },
    {
      "cell_type": "code",
      "source": [
        "del(my_list[0])"
      ],
      "metadata": {
        "id": "PNEu-S-ppGH6"
      },
      "execution_count": 24,
      "outputs": []
    },
    {
      "cell_type": "code",
      "source": [
        "my_list"
      ],
      "metadata": {
        "colab": {
          "base_uri": "https://localhost:8080/"
        },
        "id": "bvdYeKKwpgju",
        "outputId": "be95384c-68bc-4995-ce7d-b83005be7f31"
      },
      "execution_count": 25,
      "outputs": [
        {
          "output_type": "execute_result",
          "data": {
            "text/plain": [
              "[12.5, [1, 2, 3], 100]"
            ]
          },
          "metadata": {},
          "execution_count": 25
        }
      ]
    },
    {
      "cell_type": "code",
      "source": [
        "if list_name.index('h') in list_name:\n",
        "  print(list_name.index('h'))\n",
        "else :\n",
        "  print ('not found')"
      ],
      "metadata": {
        "colab": {
          "base_uri": "https://localhost:8080/"
        },
        "id": "S62jIxLXphzO",
        "outputId": "0d510e17-ec95-4402-b4bf-8db8b3699722"
      },
      "execution_count": 36,
      "outputs": [
        {
          "output_type": "stream",
          "name": "stdout",
          "text": [
            "not found\n"
          ]
        }
      ]
    },
    {
      "cell_type": "code",
      "source": [
        "list_name.append(2)\n",
        "if list_name.index('h') in list_name:\n",
        "  print(list_name.index('h'))\n",
        "else :\n",
        "  print ('not found')"
      ],
      "metadata": {
        "colab": {
          "base_uri": "https://localhost:8080/"
        },
        "id": "RYtmx7bSN32u",
        "outputId": "1d48c8bb-2467-4d91-b4b6-b8a134455a4f"
      },
      "execution_count": 37,
      "outputs": [
        {
          "output_type": "stream",
          "name": "stdout",
          "text": [
            "2\n"
          ]
        }
      ]
    },
    {
      "cell_type": "code",
      "source": [
        "print(list_name.index('j'))"
      ],
      "metadata": {
        "colab": {
          "base_uri": "https://localhost:8080/"
        },
        "id": "irfU28xhpyvk",
        "outputId": "1bfbc92a-738e-4cfa-afb7-69354b01d995"
      },
      "execution_count": 28,
      "outputs": [
        {
          "output_type": "stream",
          "name": "stdout",
          "text": [
            "0\n"
          ]
        }
      ]
    },
    {
      "cell_type": "code",
      "source": [
        "list_2 = ['a','b','c']\n",
        "my_list.extend(list_2)\n",
        "my_list"
      ],
      "metadata": {
        "colab": {
          "base_uri": "https://localhost:8080/"
        },
        "id": "DJoo65ZOL3JN",
        "outputId": "0c27ad3c-b258-4aae-e0c7-5f58e88abc97"
      },
      "execution_count": 27,
      "outputs": [
        {
          "output_type": "execute_result",
          "data": {
            "text/plain": [
              "[12.5, [1, 2, 3], 100, 'a', 'b', 'c']"
            ]
          },
          "metadata": {},
          "execution_count": 27
        }
      ]
    },
    {
      "cell_type": "code",
      "source": [
        "my_list.insert(0,'a word')"
      ],
      "metadata": {
        "id": "xjZ66TsjJrHJ"
      },
      "execution_count": 38,
      "outputs": []
    },
    {
      "cell_type": "code",
      "source": [
        "my_list"
      ],
      "metadata": {
        "colab": {
          "base_uri": "https://localhost:8080/"
        },
        "id": "fwa6dcsgOI-5",
        "outputId": "e4c63d6c-134f-4710-af40-70f87588fe96"
      },
      "execution_count": 39,
      "outputs": [
        {
          "output_type": "execute_result",
          "data": {
            "text/plain": [
              "['a word', 12.5, [1, 2, 3], 100, 'a', 'b', 'c']"
            ]
          },
          "metadata": {},
          "execution_count": 39
        }
      ]
    },
    {
      "cell_type": "code",
      "source": [
        "list3 = my_list + list_name"
      ],
      "metadata": {
        "id": "gLfrGyYIJdjB"
      },
      "execution_count": 40,
      "outputs": []
    },
    {
      "cell_type": "code",
      "source": [
        "list3"
      ],
      "metadata": {
        "colab": {
          "base_uri": "https://localhost:8080/"
        },
        "id": "t0klrruOOQXC",
        "outputId": "867e0756-37d2-459c-f5db-5b63265640dd"
      },
      "execution_count": 41,
      "outputs": [
        {
          "output_type": "execute_result",
          "data": {
            "text/plain": [
              "['a word',\n",
              " 12.5,\n",
              " [1, 2, 3],\n",
              " 100,\n",
              " 'a',\n",
              " 'b',\n",
              " 'c',\n",
              " 'j',\n",
              " 'o',\n",
              " 'h',\n",
              " 'n',\n",
              " ' ',\n",
              " 's',\n",
              " 'm',\n",
              " 'i',\n",
              " 't',\n",
              " 'h',\n",
              " 2]"
            ]
          },
          "metadata": {},
          "execution_count": 41
        }
      ]
    },
    {
      "cell_type": "code",
      "source": [
        "list3.clear()"
      ],
      "metadata": {
        "id": "xP1rf9_JOum7"
      },
      "execution_count": 43,
      "outputs": []
    },
    {
      "cell_type": "code",
      "source": [
        "list3"
      ],
      "metadata": {
        "colab": {
          "base_uri": "https://localhost:8080/"
        },
        "id": "-4MMBQkEOwvA",
        "outputId": "4684b519-40f7-48d3-c0b7-bf6fa16d7cef"
      },
      "execution_count": 44,
      "outputs": [
        {
          "output_type": "execute_result",
          "data": {
            "text/plain": [
              "[]"
            ]
          },
          "metadata": {},
          "execution_count": 44
        }
      ]
    },
    {
      "cell_type": "markdown",
      "source": [
        "# Tuples : Static Lists"
      ],
      "metadata": {
        "id": "LoGpKjjyOWJx"
      }
    },
    {
      "cell_type": "code",
      "source": [
        "tuple_1 = (1,2,'a','b')\n",
        "tuple_1"
      ],
      "metadata": {
        "colab": {
          "base_uri": "https://localhost:8080/"
        },
        "id": "eVHfRXZFOcHu",
        "outputId": "cea26ac0-40dd-421b-a464-4b3d552f94d0"
      },
      "execution_count": 42,
      "outputs": [
        {
          "output_type": "execute_result",
          "data": {
            "text/plain": [
              "(1, 2, 'a', 'b')"
            ]
          },
          "metadata": {},
          "execution_count": 42
        }
      ]
    },
    {
      "cell_type": "code",
      "source": [],
      "metadata": {
        "id": "F5OVQMhhOmkb"
      },
      "execution_count": null,
      "outputs": []
    },
    {
      "cell_type": "code",
      "source": [
        "tuple_1.index('a')"
      ],
      "metadata": {
        "colab": {
          "base_uri": "https://localhost:8080/"
        },
        "id": "ccPe9w6yOXKK",
        "outputId": "ed4e2279-a8bf-40f8-f8a1-3a0ec0957e91"
      },
      "execution_count": 45,
      "outputs": [
        {
          "output_type": "execute_result",
          "data": {
            "text/plain": [
              "2"
            ]
          },
          "metadata": {},
          "execution_count": 45
        }
      ]
    },
    {
      "cell_type": "code",
      "source": [
        "tuple_1.count(1)"
      ],
      "metadata": {
        "colab": {
          "base_uri": "https://localhost:8080/"
        },
        "id": "_1KEDs-YO20d",
        "outputId": "f00be2cf-acd8-4e26-89ad-c569918472b8"
      },
      "execution_count": 46,
      "outputs": [
        {
          "output_type": "execute_result",
          "data": {
            "text/plain": [
              "1"
            ]
          },
          "metadata": {},
          "execution_count": 46
        }
      ]
    },
    {
      "cell_type": "markdown",
      "source": [
        "# Sets and Dicts"
      ],
      "metadata": {
        "id": "QNP6HCvhO7oo"
      }
    },
    {
      "cell_type": "code",
      "source": [
        "set1 = set(tuple_1)"
      ],
      "metadata": {
        "id": "FZ9EJDU5O9JN"
      },
      "execution_count": 47,
      "outputs": []
    },
    {
      "cell_type": "code",
      "source": [
        "set1"
      ],
      "metadata": {
        "colab": {
          "base_uri": "https://localhost:8080/"
        },
        "id": "VDQ0DqbEPSlY",
        "outputId": "c3c4a558-76b0-401e-ee48-5c6691e4ce34"
      },
      "execution_count": 48,
      "outputs": [
        {
          "output_type": "execute_result",
          "data": {
            "text/plain": [
              "{1, 2, 'a', 'b'}"
            ]
          },
          "metadata": {},
          "execution_count": 48
        }
      ]
    },
    {
      "cell_type": "code",
      "source": [
        "set1.add('sara')\n",
        "set1"
      ],
      "metadata": {
        "colab": {
          "base_uri": "https://localhost:8080/"
        },
        "id": "CSde8HfLO5eV",
        "outputId": "ad7f1ff7-4c37-4515-bf33-37ff8a94eb31"
      },
      "execution_count": 49,
      "outputs": [
        {
          "output_type": "execute_result",
          "data": {
            "text/plain": [
              "{1, 2, 'a', 'b', 'sara'}"
            ]
          },
          "metadata": {},
          "execution_count": 49
        }
      ]
    },
    {
      "cell_type": "code",
      "source": [
        "len(set1)"
      ],
      "metadata": {
        "colab": {
          "base_uri": "https://localhost:8080/"
        },
        "id": "NwmuhtaBPa-r",
        "outputId": "bcff798e-1a0d-4626-aaf1-654acd4f18e3"
      },
      "execution_count": 50,
      "outputs": [
        {
          "output_type": "execute_result",
          "data": {
            "text/plain": [
              "5"
            ]
          },
          "metadata": {},
          "execution_count": 50
        }
      ]
    },
    {
      "cell_type": "code",
      "source": [
        "len(my_list)"
      ],
      "metadata": {
        "colab": {
          "base_uri": "https://localhost:8080/"
        },
        "id": "RHv2M2F0PdQ9",
        "outputId": "c8885af7-c9c4-4926-b2dc-e2c1f7f451fd"
      },
      "execution_count": 52,
      "outputs": [
        {
          "output_type": "execute_result",
          "data": {
            "text/plain": [
              "7"
            ]
          },
          "metadata": {},
          "execution_count": 52
        }
      ]
    },
    {
      "cell_type": "code",
      "source": [
        "len(tuple_1)"
      ],
      "metadata": {
        "colab": {
          "base_uri": "https://localhost:8080/"
        },
        "id": "Add4emVXPfC8",
        "outputId": "957b0b81-549b-48b8-a6ab-a7495b68346e"
      },
      "execution_count": 53,
      "outputs": [
        {
          "output_type": "execute_result",
          "data": {
            "text/plain": [
              "4"
            ]
          },
          "metadata": {},
          "execution_count": 53
        }
      ]
    },
    {
      "cell_type": "code",
      "source": [
        "set1.remove(1)"
      ],
      "metadata": {
        "id": "QbgeAccoPiI_"
      },
      "execution_count": 54,
      "outputs": []
    },
    {
      "cell_type": "code",
      "source": [
        "set1"
      ],
      "metadata": {
        "colab": {
          "base_uri": "https://localhost:8080/"
        },
        "id": "maiuos-4Pp0g",
        "outputId": "5f9b1806-e545-4cd8-b48e-c89a37911bd7"
      },
      "execution_count": 55,
      "outputs": [
        {
          "output_type": "execute_result",
          "data": {
            "text/plain": [
              "{2, 'a', 'b', 'sara'}"
            ]
          },
          "metadata": {},
          "execution_count": 55
        }
      ]
    },
    {
      "cell_type": "code",
      "source": [
        "# set1[0] # we don't have index in sets"
      ],
      "metadata": {
        "id": "gWVlDtaPPqmp"
      },
      "execution_count": 58,
      "outputs": []
    },
    {
      "cell_type": "code",
      "source": [
        "thisdict = {\n",
        "  \"brand\": \"Ford\",\n",
        "  \"model\": \"Mustang\",\n",
        "  \"year\": 1964\n",
        "}"
      ],
      "metadata": {
        "id": "bCzlLkOsPtMQ"
      },
      "execution_count": 62,
      "outputs": []
    },
    {
      "cell_type": "code",
      "source": [
        "thisdict"
      ],
      "metadata": {
        "colab": {
          "base_uri": "https://localhost:8080/"
        },
        "id": "j2JVmtWcQJIg",
        "outputId": "683c6bef-1043-4ef3-a021-0decf6253a6a"
      },
      "execution_count": 63,
      "outputs": [
        {
          "output_type": "execute_result",
          "data": {
            "text/plain": [
              "{'brand': 'Ford', 'model': 'Mustang', 'year': 1964}"
            ]
          },
          "metadata": {},
          "execution_count": 63
        }
      ]
    },
    {
      "cell_type": "code",
      "source": [
        "del(thisdict['model'])"
      ],
      "metadata": {
        "id": "m13_6XrvP-zr"
      },
      "execution_count": 60,
      "outputs": []
    },
    {
      "cell_type": "code",
      "source": [
        "thisdict"
      ],
      "metadata": {
        "colab": {
          "base_uri": "https://localhost:8080/"
        },
        "id": "vBO8GVjkQFzp",
        "outputId": "77407d6a-9a5e-46c0-d7dc-4125a711dd4d"
      },
      "execution_count": 61,
      "outputs": [
        {
          "output_type": "execute_result",
          "data": {
            "text/plain": [
              "{'brand': 'Ford', 'year': 1964}"
            ]
          },
          "metadata": {},
          "execution_count": 61
        }
      ]
    },
    {
      "cell_type": "code",
      "source": [
        "for i in thisdict.items() :\n",
        "  print(i)"
      ],
      "metadata": {
        "colab": {
          "base_uri": "https://localhost:8080/"
        },
        "id": "GrPkM-mYQHHM",
        "outputId": "f046a8ea-30ce-4466-c194-a8e271e24eac"
      },
      "execution_count": 66,
      "outputs": [
        {
          "output_type": "stream",
          "name": "stdout",
          "text": [
            "('brand', 'Ford')\n",
            "('model', 'Mustang')\n",
            "('year', 1964)\n"
          ]
        }
      ]
    },
    {
      "cell_type": "code",
      "source": [
        "for i in thisdict.values() :\n",
        "  print(i)"
      ],
      "metadata": {
        "colab": {
          "base_uri": "https://localhost:8080/"
        },
        "id": "W0V5-gHOQZFe",
        "outputId": "229e39c9-faf4-4f34-f261-1aa15ce3138f"
      },
      "execution_count": 65,
      "outputs": [
        {
          "output_type": "stream",
          "name": "stdout",
          "text": [
            "Ford\n",
            "Mustang\n",
            "1964\n"
          ]
        }
      ]
    },
    {
      "cell_type": "markdown",
      "source": [
        "# Functions"
      ],
      "metadata": {
        "id": "QxI_ECBiQnpQ"
      }
    },
    {
      "cell_type": "code",
      "source": [
        "def sumFunc (a,b):\n",
        "  sum = a + b\n",
        "  return sum\n",
        "\n",
        "sumFunc(2,5)"
      ],
      "metadata": {
        "colab": {
          "base_uri": "https://localhost:8080/"
        },
        "id": "uX8kOWDgQol0",
        "outputId": "b1f017b5-8775-48fc-8b40-fa7fc9ba2934"
      },
      "execution_count": 69,
      "outputs": [
        {
          "output_type": "execute_result",
          "data": {
            "text/plain": [
              "7"
            ]
          },
          "metadata": {},
          "execution_count": 69
        }
      ]
    }
  ]
}